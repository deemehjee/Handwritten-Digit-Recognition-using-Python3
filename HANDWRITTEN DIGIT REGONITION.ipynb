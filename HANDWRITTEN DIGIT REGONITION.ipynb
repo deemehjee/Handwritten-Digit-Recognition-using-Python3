{
 "cells": [
  {
   "cell_type": "code",
   "execution_count": null,
   "id": "b833db54",
   "metadata": {},
   "outputs": [],
   "source": [
    "pip install keras"
   ]
  },
  {
   "cell_type": "code",
   "execution_count": null,
   "id": "d47ff0dc",
   "metadata": {},
   "outputs": [],
   "source": [
    "#The MNIST dataset contains 60,000 training images of handwritten digits from zero to nine and 10,000 images for testing.\n",
    "#So, the MNIST dataset has 10 different classes. \n",
    "#The handwritten digits images are represented as a 28×28 matrix where each cell contains grayscale pixel value."
   ]
  },
  {
   "cell_type": "code",
   "execution_count": 1,
   "id": "8bb73508",
   "metadata": {},
   "outputs": [],
   "source": [
    "from keras.datasets import mnist"
   ]
  },
  {
   "cell_type": "code",
   "execution_count": 2,
   "id": "b35bc9c9",
   "metadata": {},
   "outputs": [],
   "source": [
    "from keras.models import Sequential"
   ]
  },
  {
   "cell_type": "code",
   "execution_count": 3,
   "id": "48654ea7",
   "metadata": {},
   "outputs": [],
   "source": [
    "from keras.layers import Dense, Dropout, Flatten"
   ]
  },
  {
   "cell_type": "code",
   "execution_count": 4,
   "id": "ab4e13ed",
   "metadata": {},
   "outputs": [],
   "source": [
    "from keras.layers import Conv2D, MaxPooling2D"
   ]
  },
  {
   "cell_type": "code",
   "execution_count": 5,
   "id": "3a8e2a98",
   "metadata": {},
   "outputs": [],
   "source": [
    "from keras import backend as K"
   ]
  },
  {
   "cell_type": "code",
   "execution_count": 6,
   "id": "9395f176",
   "metadata": {},
   "outputs": [],
   "source": [
    "(x_train, y_train), (x_test, y_test) = mnist.load_data()"
   ]
  },
  {
   "cell_type": "code",
   "execution_count": 7,
   "id": "335c0f3a",
   "metadata": {},
   "outputs": [],
   "source": [
    "from keras.layers import Dense, Dropout, Activation\n",
    "from keras.optimizers import SGD"
   ]
  },
  {
   "cell_type": "code",
   "execution_count": 8,
   "id": "ef804c3d",
   "metadata": {},
   "outputs": [],
   "source": [
    "import keras\n",
    "import keras.utils"
   ]
  },
  {
   "cell_type": "code",
   "execution_count": 9,
   "id": "2ecfcbc5",
   "metadata": {},
   "outputs": [
    {
     "name": "stdout",
     "output_type": "stream",
     "text": [
      "(60000, 28, 28) (60000,)\n"
     ]
    }
   ],
   "source": [
    "print (x_train.shape, y_train.shape)"
   ]
  },
  {
   "cell_type": "code",
   "execution_count": null,
   "id": "e09d741e",
   "metadata": {},
   "outputs": [],
   "source": [
    "pip install gradio"
   ]
  },
  {
   "cell_type": "code",
   "execution_count": null,
   "id": "b0203a18",
   "metadata": {},
   "outputs": [],
   "source": []
  },
  {
   "cell_type": "code",
   "execution_count": null,
   "id": "91b5bbc4",
   "metadata": {},
   "outputs": [],
   "source": []
  },
  {
   "cell_type": "code",
   "execution_count": null,
   "id": "1b10908c",
   "metadata": {},
   "outputs": [],
   "source": [
    "pip install pillow"
   ]
  },
  {
   "cell_type": "code",
   "execution_count": 10,
   "id": "b1862d09",
   "metadata": {},
   "outputs": [
    {
     "name": "stdout",
     "output_type": "stream",
     "text": [
      "Requirement already satisfied: tensorflow in c:\\users\\tyllium\\anaconda3\\lib\\site-packages (2.10.0)\n",
      "Note: you may need to restart the kernel to use updated packages.\n"
     ]
    },
    {
     "name": "stderr",
     "output_type": "stream",
     "text": [
      "ERROR: Could not find a version that satisfies the requirement as (from versions: none)\n",
      "ERROR: No matching distribution found for as\n"
     ]
    }
   ],
   "source": [
    "pip install tensorflow as tf"
   ]
  },
  {
   "cell_type": "code",
   "execution_count": 11,
   "id": "42a9e6f2",
   "metadata": {},
   "outputs": [],
   "source": [
    "import tensorflow as tf"
   ]
  },
  {
   "cell_type": "code",
   "execution_count": null,
   "id": "8d718c8d",
   "metadata": {},
   "outputs": [],
   "source": [
    "pip install numpy"
   ]
  },
  {
   "cell_type": "code",
   "execution_count": 12,
   "id": "77bfc99e",
   "metadata": {},
   "outputs": [
    {
     "name": "stdout",
     "output_type": "stream",
     "text": [
      "(60000, 28, 28) (60000,)\n"
     ]
    }
   ],
   "source": [
    "(x_train, y_train), (x_test, y_test) = mnist.load_data()\n",
    "print (x_train.shape, y_train.shape)"
   ]
  },
  {
   "cell_type": "code",
   "execution_count": null,
   "id": "174c2226",
   "metadata": {},
   "outputs": [],
   "source": [
    "#The image data cannot be fed directly into the model so we need to perform some operations \n",
    "#and process the data to make it ready for our neural network. \n",
    "#The dimension of the training data is (60000,28,28). \n",
    "#The CNN model will require one more dimension so we reshape the matrix to shape (60000,28,28,1)."
   ]
  },
  {
   "cell_type": "code",
   "execution_count": 13,
   "id": "0204b86a",
   "metadata": {},
   "outputs": [
    {
     "name": "stdout",
     "output_type": "stream",
     "text": [
      "x_train shape: (60000, 28, 28, 1)\n"
     ]
    }
   ],
   "source": [
    "import keras\n",
    "import keras.utils\n",
    "x_train = x_train.reshape(x_train.shape[0], 28, 28, 1)\n",
    "x_test = x_test.reshape(x_test.shape[0], 28, 28, 1)\n",
    "input_shape = (28, 28, 1)\n",
    "# convert class vectors to binary class matrices\n",
    "num_classes = 10\n",
    "y_train = keras.utils.to_categorical(y_train, num_classes)\n",
    "y_test = keras.utils.to_categorical(y_test, num_classes)\n",
    "x_train = x_train.astype('float32')\n",
    "x_test = x_test.astype('float32')\n",
    "x_train /= 255\n",
    "x_test /= 255\n",
    "print('x_train shape:', x_train.shape)\n"
   ]
  },
  {
   "cell_type": "code",
   "execution_count": null,
   "id": "b86a9392",
   "metadata": {},
   "outputs": [],
   "source": [
    "print(x_train.shape[0], 'train samples')\n",
    "print(x_test.shape[0], 'test samples')"
   ]
  },
  {
   "cell_type": "code",
   "execution_count": 14,
   "id": "6d28bb5a",
   "metadata": {},
   "outputs": [],
   "source": [
    "#create the model\n",
    "#the model was compiled with the Adadelta optimizer.\n",
    "epochs = 10\n",
    "def create_model():\n",
    "    num_classes = 10\n",
    "    batch_size = 128\n",
    "    epochs = 10\n",
    "    model = Sequential()\n",
    "    model.add(Conv2D(32, kernel_size=(3, 3),activation='relu',input_shape=input_shape))\n",
    "    model.add(Conv2D(64, (3, 3), activation='relu'))\n",
    "    model.add(MaxPooling2D(pool_size=(2, 2)))\n",
    "    model.add(Dropout(0.25))\n",
    "    model.add(Flatten())\n",
    "    model.add(Dense(256, activation='relu'))\n",
    "    model.add(Dropout(0.5))\n",
    "    model.add(Dense(num_classes, activation='softmax'))\n",
    "    model.compile(loss=keras.losses.categorical_crossentropy,optimizer=keras.optimizers.Adadelta(),metrics=['accuracy'])\n",
    "    return model\n",
    "\n",
    "#build the model\n",
    "model = create_model()\n",
    "    \n"
   ]
  },
  {
   "cell_type": "code",
   "execution_count": null,
   "id": "8f3b5b5a",
   "metadata": {},
   "outputs": [],
   "source": [
    "#train the model\n",
    "#After training, we save the weights and model definition in the ‘mnist.h5’ file.\n",
    "hist = model.fit(x_train, y_train,epochs=epochs,verbose=1,validation_data=(x_test, y_test))\n",
    "print(\"The model has successfully trained\")\n",
    "model.save('mnist.h5')\n",
    "print(\"Saving the model as mnist.h5\")"
   ]
  },
  {
   "cell_type": "code",
   "execution_count": null,
   "id": "db502724",
   "metadata": {},
   "outputs": [],
   "source": [
    "#Evaluate the model\n",
    "score = model.evaluate(x_test, y_test, verbose=0)\n",
    "print('Test loss:', score[0])\n",
    "print('Test accuracy:', score[1])"
   ]
  },
  {
   "cell_type": "markdown",
   "id": "9e5f5dfc",
   "metadata": {},
   "source": [
    "# Predict Function"
   ]
  },
  {
   "cell_type": "code",
   "execution_count": 15,
   "id": "8459c55d",
   "metadata": {},
   "outputs": [],
   "source": [
    "def predict_digit(input):\n",
    "    prediction = model.predict(input.reshape(1, 28, 28)).tolist()[0]\n",
    "    return {str(i): prediction[i] for i in range(10)}"
   ]
  },
  {
   "cell_type": "code",
   "execution_count": null,
   "id": "04bb1b56",
   "metadata": {},
   "outputs": [],
   "source": [
    "#def predict_digit(input):\n",
    "  #  prediction = model.predict(input.reshape(1, 28, 28)).tolist()[0]\n",
    "  #  print(prediction)\n",
    "  #  return {str(i): prediction[i] for i in range(10)}\n"
   ]
  },
  {
   "cell_type": "code",
   "execution_count": null,
   "id": "ea7c7b78",
   "metadata": {},
   "outputs": [],
   "source": []
  },
  {
   "cell_type": "code",
   "execution_count": null,
   "id": "70bb2539",
   "metadata": {},
   "outputs": [],
   "source": [
    "#import gradio as gr\n",
    "#model = tf.keras.models.Sequential([tf.keras.layers.Flatten(),\n",
    "  #tf.keras.layers.Dense(128,activation='relu'), tf.keras.layers.Dense(10, activation='softmax')])\n",
    "#model.compile(optimizer='adam', loss='sparse_categorical_crossentropy', metrics=['accuracy'])\n",
    "#model.fit(x_train, y_train, validation_data=(x_test, y_test), epochs=10)"
   ]
  },
  {
   "cell_type": "code",
   "execution_count": null,
   "id": "e06d5168",
   "metadata": {},
   "outputs": [],
   "source": [
    "print predict_digit()"
   ]
  },
  {
   "cell_type": "markdown",
   "id": "b9f43f44",
   "metadata": {},
   "source": [
    "# using gradio"
   ]
  },
  {
   "cell_type": "code",
   "execution_count": null,
   "id": "c87adf34",
   "metadata": {},
   "outputs": [],
   "source": [
    "\n",
    "label = gr.outputs.Label(num_top_classes=3)\n",
    "interface = gr.Interface(fn=predict_digit, inputs=\"sketchpad\", outputs=label, live=True)\n",
    "interface.launch()"
   ]
  },
  {
   "cell_type": "code",
   "execution_count": null,
   "id": "ce71af54",
   "metadata": {},
   "outputs": [],
   "source": [
    "label = gr.outputs.Label(num_top_classes=3)\n",
    "interface = gr.Interface(fn=predict_digit, inputs=\"sketchpad\", outputs = label)\n",
    "#interface.launch()\n",
    "outputs = gr.outputs.Textbox()"
   ]
  },
  {
   "cell_type": "code",
   "execution_count": null,
   "id": "5e415810",
   "metadata": {},
   "outputs": [],
   "source": []
  },
  {
   "cell_type": "code",
   "execution_count": null,
   "id": "2aed2334",
   "metadata": {},
   "outputs": [],
   "source": [
    "pip install pyqrcode\n"
   ]
  },
  {
   "cell_type": "code",
   "execution_count": null,
   "id": "e690d635",
   "metadata": {},
   "outputs": [],
   "source": [
    "pip install pypng"
   ]
  },
  {
   "cell_type": "code",
   "execution_count": null,
   "id": "584d4306",
   "metadata": {},
   "outputs": [],
   "source": [
    "import pyqrcode\n",
    "from PIL import Image\n",
    "link = input\n",
    "qr_code = pyqrcode.create(link)"
   ]
  },
  {
   "cell_type": "code",
   "execution_count": null,
   "id": "046fcca0",
   "metadata": {},
   "outputs": [],
   "source": [
    "qr_code.png(\"QRCode.png\", scale=5)\n",
    "Image.open(\"QRCode.png\")"
   ]
  },
  {
   "cell_type": "code",
   "execution_count": null,
   "id": "806318fe",
   "metadata": {},
   "outputs": [],
   "source": []
  },
  {
   "cell_type": "code",
   "execution_count": null,
   "id": "d81e7cf4",
   "metadata": {},
   "outputs": [],
   "source": [
    "label = gr.outputs.Label(num_top_classes=3)\n",
    "interface.launch()\n",
    "interface = gr.Interface(fn=predict_digit, inputs=\"sketchpad\", outputs=label, live=True)\n"
   ]
  },
  {
   "cell_type": "code",
   "execution_count": null,
   "id": "f46936de",
   "metadata": {},
   "outputs": [],
   "source": [
    "label = gr.outputs.Label(num_top_classes=3)\n",
    "interface.launch()\n",
    "interface = gr.Interface(fn=predict_digit, inputs=\"sketchpad\")"
   ]
  },
  {
   "cell_type": "code",
   "execution_count": null,
   "id": "6be88f21",
   "metadata": {},
   "outputs": [],
   "source": []
  },
  {
   "cell_type": "code",
   "execution_count": null,
   "id": "0d24e448",
   "metadata": {},
   "outputs": [],
   "source": []
  },
  {
   "cell_type": "markdown",
   "id": "a581d3b4",
   "metadata": {},
   "source": [
    "# using self build GUI\n"
   ]
  },
  {
   "cell_type": "code",
   "execution_count": 16,
   "id": "3a9dce0e",
   "metadata": {},
   "outputs": [
    {
     "name": "stdout",
     "output_type": "stream",
     "text": [
      "model loaded successfully\n"
     ]
    }
   ],
   "source": [
    "\n",
    "\n",
    "#Create GUI to predict digits\n",
    "#With the 32,\n",
    "#We create a function predict_digit() \n",
    "#that takes the image as input and then uses the trained model to predict the digit.\n",
    "#Then we create the App class which is responsible for building the GUI for our app. \n",
    "#We create a canvas where we can draw by capturing the mouse event and with a button, \n",
    "#we trigger the predict_digit() function and display the results.\n",
    "\n",
    "from keras.models import load_model\n",
    "from tkinter import *\n",
    "import tkinter as tk\n",
    "import glob\n",
    "import win32gui\n",
    "from PIL import ImageGrab, Image, ImageDraw\n",
    "import numpy as np\n",
    "model = load_model(r'C:\\Users\\Tyllium\\Downloads\\mnist.h5')\n",
    "print('model loaded successfully')"
   ]
  },
  {
   "cell_type": "code",
   "execution_count": null,
   "id": "3ada1f77",
   "metadata": {},
   "outputs": [
    {
     "name": "stderr",
     "output_type": "stream",
     "text": [
      "Exception in Tkinter callback\n",
      "Traceback (most recent call last):\n",
      "  File \"C:\\Users\\Tyllium\\anaconda3\\lib\\tkinter\\__init__.py\", line 1892, in __call__\n",
      "    return self.func(*args)\n",
      "  File \"C:\\Users\\Tyllium\\AppData\\Local\\Temp/ipykernel_13248/1326363247.py\", line 23, in classify_handwriting\n",
      "    digit, acc = predict_digit(im)\n",
      "  File \"C:\\Users\\Tyllium\\AppData\\Local\\Temp/ipykernel_13248/1643772785.py\", line 2, in predict_digit\n",
      "    prediction = model.predict(input.reshape(1, 28, 28)).tolist()[0]\n",
      "  File \"C:\\Users\\Tyllium\\anaconda3\\lib\\site-packages\\PIL\\Image.py\", line 546, in __getattr__\n",
      "    raise AttributeError(name)\n",
      "AttributeError: reshape\n",
      "Exception in Tkinter callback\n",
      "Traceback (most recent call last):\n",
      "  File \"C:\\Users\\Tyllium\\anaconda3\\lib\\tkinter\\__init__.py\", line 1892, in __call__\n",
      "    return self.func(*args)\n",
      "  File \"C:\\Users\\Tyllium\\AppData\\Local\\Temp/ipykernel_13248/1326363247.py\", line 23, in classify_handwriting\n",
      "    digit, acc = predict_digit(im)\n",
      "  File \"C:\\Users\\Tyllium\\AppData\\Local\\Temp/ipykernel_13248/1643772785.py\", line 2, in predict_digit\n",
      "    prediction = model.predict(input.reshape(1, 28, 28)).tolist()[0]\n",
      "  File \"C:\\Users\\Tyllium\\anaconda3\\lib\\site-packages\\PIL\\Image.py\", line 546, in __getattr__\n",
      "    raise AttributeError(name)\n",
      "AttributeError: reshape\n",
      "Exception in Tkinter callback\n",
      "Traceback (most recent call last):\n",
      "  File \"C:\\Users\\Tyllium\\anaconda3\\lib\\tkinter\\__init__.py\", line 1892, in __call__\n",
      "    return self.func(*args)\n",
      "  File \"C:\\Users\\Tyllium\\AppData\\Local\\Temp/ipykernel_13248/1326363247.py\", line 23, in classify_handwriting\n",
      "    digit, acc = predict_digit(im)\n",
      "  File \"C:\\Users\\Tyllium\\AppData\\Local\\Temp/ipykernel_13248/1643772785.py\", line 2, in predict_digit\n",
      "    prediction = model.predict(input.reshape(1, 28, 28)).tolist()[0]\n",
      "  File \"C:\\Users\\Tyllium\\anaconda3\\lib\\site-packages\\PIL\\Image.py\", line 546, in __getattr__\n",
      "    raise AttributeError(name)\n",
      "AttributeError: reshape\n",
      "Exception in Tkinter callback\n",
      "Traceback (most recent call last):\n",
      "  File \"C:\\Users\\Tyllium\\anaconda3\\lib\\tkinter\\__init__.py\", line 1892, in __call__\n",
      "    return self.func(*args)\n",
      "  File \"C:\\Users\\Tyllium\\AppData\\Local\\Temp/ipykernel_13248/1326363247.py\", line 23, in classify_handwriting\n",
      "    digit, acc = predict_digit(im)\n",
      "  File \"C:\\Users\\Tyllium\\AppData\\Local\\Temp/ipykernel_13248/1643772785.py\", line 2, in predict_digit\n",
      "    prediction = model.predict(input.reshape(1, 28, 28)).tolist()[0]\n",
      "  File \"C:\\Users\\Tyllium\\anaconda3\\lib\\site-packages\\PIL\\Image.py\", line 546, in __getattr__\n",
      "    raise AttributeError(name)\n",
      "AttributeError: reshape\n",
      "Exception in Tkinter callback\n",
      "Traceback (most recent call last):\n",
      "  File \"C:\\Users\\Tyllium\\anaconda3\\lib\\tkinter\\__init__.py\", line 1892, in __call__\n",
      "    return self.func(*args)\n",
      "  File \"C:\\Users\\Tyllium\\AppData\\Local\\Temp/ipykernel_13248/1326363247.py\", line 23, in classify_handwriting\n",
      "    digit, acc = predict_digit(im)\n",
      "  File \"C:\\Users\\Tyllium\\AppData\\Local\\Temp/ipykernel_13248/1643772785.py\", line 2, in predict_digit\n",
      "    prediction = model.predict(input.reshape(1, 28, 28)).tolist()[0]\n",
      "  File \"C:\\Users\\Tyllium\\anaconda3\\lib\\site-packages\\PIL\\Image.py\", line 546, in __getattr__\n",
      "    raise AttributeError(name)\n",
      "AttributeError: reshape\n",
      "Exception in Tkinter callback\n",
      "Traceback (most recent call last):\n",
      "  File \"C:\\Users\\Tyllium\\anaconda3\\lib\\tkinter\\__init__.py\", line 1892, in __call__\n",
      "    return self.func(*args)\n",
      "  File \"C:\\Users\\Tyllium\\AppData\\Local\\Temp/ipykernel_13248/1326363247.py\", line 23, in classify_handwriting\n",
      "    digit, acc = predict_digit(im)\n",
      "  File \"C:\\Users\\Tyllium\\AppData\\Local\\Temp/ipykernel_13248/1643772785.py\", line 2, in predict_digit\n",
      "    prediction = model.predict(input.reshape(1, 28, 28)).tolist()[0]\n",
      "  File \"C:\\Users\\Tyllium\\anaconda3\\lib\\site-packages\\PIL\\Image.py\", line 546, in __getattr__\n",
      "    raise AttributeError(name)\n",
      "AttributeError: reshape\n",
      "Exception in Tkinter callback\n",
      "Traceback (most recent call last):\n",
      "  File \"C:\\Users\\Tyllium\\anaconda3\\lib\\tkinter\\__init__.py\", line 1892, in __call__\n",
      "    return self.func(*args)\n",
      "  File \"C:\\Users\\Tyllium\\AppData\\Local\\Temp/ipykernel_13248/1326363247.py\", line 23, in classify_handwriting\n",
      "    digit, acc = predict_digit(im)\n",
      "  File \"C:\\Users\\Tyllium\\AppData\\Local\\Temp/ipykernel_13248/1643772785.py\", line 2, in predict_digit\n",
      "    prediction = model.predict(input.reshape(1, 28, 28)).tolist()[0]\n",
      "  File \"C:\\Users\\Tyllium\\anaconda3\\lib\\site-packages\\PIL\\Image.py\", line 546, in __getattr__\n",
      "    raise AttributeError(name)\n",
      "AttributeError: reshape\n",
      "Exception in Tkinter callback\n",
      "Traceback (most recent call last):\n",
      "  File \"C:\\Users\\Tyllium\\anaconda3\\lib\\tkinter\\__init__.py\", line 1892, in __call__\n",
      "    return self.func(*args)\n",
      "  File \"C:\\Users\\Tyllium\\AppData\\Local\\Temp/ipykernel_13248/1326363247.py\", line 23, in classify_handwriting\n",
      "    digit, acc = predict_digit(im)\n",
      "  File \"C:\\Users\\Tyllium\\AppData\\Local\\Temp/ipykernel_13248/1643772785.py\", line 2, in predict_digit\n",
      "    prediction = model.predict(input.reshape(1, 28, 28)).tolist()[0]\n",
      "  File \"C:\\Users\\Tyllium\\anaconda3\\lib\\site-packages\\PIL\\Image.py\", line 546, in __getattr__\n",
      "    raise AttributeError(name)\n",
      "AttributeError: reshape\n",
      "Exception in Tkinter callback\n",
      "Traceback (most recent call last):\n",
      "  File \"C:\\Users\\Tyllium\\anaconda3\\lib\\tkinter\\__init__.py\", line 1892, in __call__\n",
      "    return self.func(*args)\n",
      "  File \"C:\\Users\\Tyllium\\AppData\\Local\\Temp/ipykernel_13248/1326363247.py\", line 23, in classify_handwriting\n",
      "    digit, acc = predict_digit(im)\n",
      "  File \"C:\\Users\\Tyllium\\AppData\\Local\\Temp/ipykernel_13248/1643772785.py\", line 2, in predict_digit\n",
      "    prediction = model.predict(input.reshape(1, 28, 28)).tolist()[0]\n",
      "  File \"C:\\Users\\Tyllium\\anaconda3\\lib\\site-packages\\PIL\\Image.py\", line 546, in __getattr__\n",
      "    raise AttributeError(name)\n",
      "AttributeError: reshape\n",
      "Exception in Tkinter callback\n",
      "Traceback (most recent call last):\n",
      "  File \"C:\\Users\\Tyllium\\anaconda3\\lib\\tkinter\\__init__.py\", line 1892, in __call__\n",
      "    return self.func(*args)\n",
      "  File \"C:\\Users\\Tyllium\\AppData\\Local\\Temp/ipykernel_13248/1326363247.py\", line 23, in classify_handwriting\n",
      "    digit, acc = predict_digit(im)\n",
      "  File \"C:\\Users\\Tyllium\\AppData\\Local\\Temp/ipykernel_13248/1643772785.py\", line 2, in predict_digit\n",
      "    prediction = model.predict(input.reshape(1, 28, 28)).tolist()[0]\n",
      "  File \"C:\\Users\\Tyllium\\anaconda3\\lib\\site-packages\\PIL\\Image.py\", line 546, in __getattr__\n",
      "    raise AttributeError(name)\n",
      "AttributeError: reshape\n",
      "Exception in Tkinter callback\n",
      "Traceback (most recent call last):\n",
      "  File \"C:\\Users\\Tyllium\\anaconda3\\lib\\tkinter\\__init__.py\", line 1892, in __call__\n",
      "    return self.func(*args)\n",
      "  File \"C:\\Users\\Tyllium\\AppData\\Local\\Temp/ipykernel_13248/1326363247.py\", line 23, in classify_handwriting\n",
      "    digit, acc = predict_digit(im)\n",
      "  File \"C:\\Users\\Tyllium\\AppData\\Local\\Temp/ipykernel_13248/1643772785.py\", line 2, in predict_digit\n",
      "    prediction = model.predict(input.reshape(1, 28, 28)).tolist()[0]\n",
      "  File \"C:\\Users\\Tyllium\\anaconda3\\lib\\site-packages\\PIL\\Image.py\", line 546, in __getattr__\n",
      "    raise AttributeError(name)\n",
      "AttributeError: reshape\n",
      "Exception in Tkinter callback\n",
      "Traceback (most recent call last):\n",
      "  File \"C:\\Users\\Tyllium\\anaconda3\\lib\\tkinter\\__init__.py\", line 1892, in __call__\n",
      "    return self.func(*args)\n",
      "  File \"C:\\Users\\Tyllium\\AppData\\Local\\Temp/ipykernel_13248/1326363247.py\", line 23, in classify_handwriting\n",
      "    digit, acc = predict_digit(im)\n",
      "  File \"C:\\Users\\Tyllium\\AppData\\Local\\Temp/ipykernel_13248/1643772785.py\", line 2, in predict_digit\n",
      "    prediction = model.predict(input.reshape(1, 28, 28)).tolist()[0]\n",
      "  File \"C:\\Users\\Tyllium\\anaconda3\\lib\\site-packages\\PIL\\Image.py\", line 546, in __getattr__\n",
      "    raise AttributeError(name)\n",
      "AttributeError: reshape\n",
      "Exception in Tkinter callback\n",
      "Traceback (most recent call last):\n",
      "  File \"C:\\Users\\Tyllium\\anaconda3\\lib\\tkinter\\__init__.py\", line 1892, in __call__\n",
      "    return self.func(*args)\n",
      "  File \"C:\\Users\\Tyllium\\AppData\\Local\\Temp/ipykernel_13248/1326363247.py\", line 23, in classify_handwriting\n",
      "    digit, acc = predict_digit(im)\n",
      "  File \"C:\\Users\\Tyllium\\AppData\\Local\\Temp/ipykernel_13248/1643772785.py\", line 2, in predict_digit\n",
      "    prediction = model.predict(input.reshape(1, 28, 28)).tolist()[0]\n",
      "  File \"C:\\Users\\Tyllium\\anaconda3\\lib\\site-packages\\PIL\\Image.py\", line 546, in __getattr__\n",
      "    raise AttributeError(name)\n",
      "AttributeError: reshape\n"
     ]
    },
    {
     "name": "stderr",
     "output_type": "stream",
     "text": [
      "Exception in Tkinter callback\n",
      "Traceback (most recent call last):\n",
      "  File \"C:\\Users\\Tyllium\\anaconda3\\lib\\tkinter\\__init__.py\", line 1892, in __call__\n",
      "    return self.func(*args)\n",
      "  File \"C:\\Users\\Tyllium\\AppData\\Local\\Temp/ipykernel_13248/1326363247.py\", line 23, in classify_handwriting\n",
      "    digit, acc = predict_digit(im)\n",
      "  File \"C:\\Users\\Tyllium\\AppData\\Local\\Temp/ipykernel_13248/1643772785.py\", line 2, in predict_digit\n",
      "    prediction = model.predict(input.reshape(1, 28, 28)).tolist()[0]\n",
      "  File \"C:\\Users\\Tyllium\\anaconda3\\lib\\site-packages\\PIL\\Image.py\", line 546, in __getattr__\n",
      "    raise AttributeError(name)\n",
      "AttributeError: reshape\n",
      "Exception in Tkinter callback\n",
      "Traceback (most recent call last):\n",
      "  File \"C:\\Users\\Tyllium\\anaconda3\\lib\\tkinter\\__init__.py\", line 1892, in __call__\n",
      "    return self.func(*args)\n",
      "  File \"C:\\Users\\Tyllium\\AppData\\Local\\Temp/ipykernel_13248/1326363247.py\", line 23, in classify_handwriting\n",
      "    digit, acc = predict_digit(im)\n",
      "  File \"C:\\Users\\Tyllium\\AppData\\Local\\Temp/ipykernel_13248/1643772785.py\", line 2, in predict_digit\n",
      "    prediction = model.predict(input.reshape(1, 28, 28)).tolist()[0]\n",
      "  File \"C:\\Users\\Tyllium\\anaconda3\\lib\\site-packages\\PIL\\Image.py\", line 546, in __getattr__\n",
      "    raise AttributeError(name)\n",
      "AttributeError: reshape\n",
      "Exception in Tkinter callback\n",
      "Traceback (most recent call last):\n",
      "  File \"C:\\Users\\Tyllium\\anaconda3\\lib\\tkinter\\__init__.py\", line 1892, in __call__\n",
      "    return self.func(*args)\n",
      "  File \"C:\\Users\\Tyllium\\AppData\\Local\\Temp/ipykernel_13248/1326363247.py\", line 23, in classify_handwriting\n",
      "    digit, acc = predict_digit(im)\n",
      "  File \"C:\\Users\\Tyllium\\AppData\\Local\\Temp/ipykernel_13248/1643772785.py\", line 2, in predict_digit\n",
      "    prediction = model.predict(input.reshape(1, 28, 28)).tolist()[0]\n",
      "  File \"C:\\Users\\Tyllium\\anaconda3\\lib\\site-packages\\PIL\\Image.py\", line 546, in __getattr__\n",
      "    raise AttributeError(name)\n",
      "AttributeError: reshape\n",
      "Exception in Tkinter callback\n",
      "Traceback (most recent call last):\n",
      "  File \"C:\\Users\\Tyllium\\anaconda3\\lib\\tkinter\\__init__.py\", line 1892, in __call__\n",
      "    return self.func(*args)\n",
      "  File \"C:\\Users\\Tyllium\\AppData\\Local\\Temp/ipykernel_13248/1326363247.py\", line 23, in classify_handwriting\n",
      "    digit, acc = predict_digit(im)\n",
      "  File \"C:\\Users\\Tyllium\\AppData\\Local\\Temp/ipykernel_13248/1643772785.py\", line 2, in predict_digit\n",
      "    prediction = model.predict(input.reshape(1, 28, 28)).tolist()[0]\n",
      "  File \"C:\\Users\\Tyllium\\anaconda3\\lib\\site-packages\\PIL\\Image.py\", line 546, in __getattr__\n",
      "    raise AttributeError(name)\n",
      "AttributeError: reshape\n",
      "Exception in Tkinter callback\n",
      "Traceback (most recent call last):\n",
      "  File \"C:\\Users\\Tyllium\\anaconda3\\lib\\tkinter\\__init__.py\", line 1892, in __call__\n",
      "    return self.func(*args)\n",
      "  File \"C:\\Users\\Tyllium\\AppData\\Local\\Temp/ipykernel_13248/1326363247.py\", line 23, in classify_handwriting\n",
      "    digit, acc = predict_digit(im)\n",
      "  File \"C:\\Users\\Tyllium\\AppData\\Local\\Temp/ipykernel_13248/1643772785.py\", line 2, in predict_digit\n",
      "    prediction = model.predict(input.reshape(1, 28, 28)).tolist()[0]\n",
      "  File \"C:\\Users\\Tyllium\\anaconda3\\lib\\site-packages\\PIL\\Image.py\", line 546, in __getattr__\n",
      "    raise AttributeError(name)\n",
      "AttributeError: reshape\n",
      "Exception in Tkinter callback\n",
      "Traceback (most recent call last):\n",
      "  File \"C:\\Users\\Tyllium\\anaconda3\\lib\\tkinter\\__init__.py\", line 1892, in __call__\n",
      "    return self.func(*args)\n",
      "  File \"C:\\Users\\Tyllium\\AppData\\Local\\Temp/ipykernel_13248/1326363247.py\", line 23, in classify_handwriting\n",
      "    digit, acc = predict_digit(im)\n",
      "  File \"C:\\Users\\Tyllium\\AppData\\Local\\Temp/ipykernel_13248/1643772785.py\", line 2, in predict_digit\n",
      "    prediction = model.predict(input.reshape(1, 28, 28)).tolist()[0]\n",
      "  File \"C:\\Users\\Tyllium\\anaconda3\\lib\\site-packages\\PIL\\Image.py\", line 546, in __getattr__\n",
      "    raise AttributeError(name)\n",
      "AttributeError: reshape\n",
      "Exception in Tkinter callback\n",
      "Traceback (most recent call last):\n",
      "  File \"C:\\Users\\Tyllium\\anaconda3\\lib\\tkinter\\__init__.py\", line 1892, in __call__\n",
      "    return self.func(*args)\n",
      "  File \"C:\\Users\\Tyllium\\AppData\\Local\\Temp/ipykernel_13248/1326363247.py\", line 23, in classify_handwriting\n",
      "    digit, acc = predict_digit(im)\n",
      "  File \"C:\\Users\\Tyllium\\AppData\\Local\\Temp/ipykernel_13248/1643772785.py\", line 2, in predict_digit\n",
      "    prediction = model.predict(input.reshape(1, 28, 28)).tolist()[0]\n",
      "  File \"C:\\Users\\Tyllium\\anaconda3\\lib\\site-packages\\PIL\\Image.py\", line 546, in __getattr__\n",
      "    raise AttributeError(name)\n",
      "AttributeError: reshape\n",
      "Exception in Tkinter callback\n",
      "Traceback (most recent call last):\n",
      "  File \"C:\\Users\\Tyllium\\anaconda3\\lib\\tkinter\\__init__.py\", line 1892, in __call__\n",
      "    return self.func(*args)\n",
      "  File \"C:\\Users\\Tyllium\\AppData\\Local\\Temp/ipykernel_13248/1326363247.py\", line 23, in classify_handwriting\n",
      "    digit, acc = predict_digit(im)\n",
      "  File \"C:\\Users\\Tyllium\\AppData\\Local\\Temp/ipykernel_13248/1643772785.py\", line 2, in predict_digit\n",
      "    prediction = model.predict(input.reshape(1, 28, 28)).tolist()[0]\n",
      "  File \"C:\\Users\\Tyllium\\anaconda3\\lib\\site-packages\\PIL\\Image.py\", line 546, in __getattr__\n",
      "    raise AttributeError(name)\n",
      "AttributeError: reshape\n",
      "Exception in Tkinter callback\n",
      "Traceback (most recent call last):\n",
      "  File \"C:\\Users\\Tyllium\\anaconda3\\lib\\tkinter\\__init__.py\", line 1892, in __call__\n",
      "    return self.func(*args)\n",
      "  File \"C:\\Users\\Tyllium\\AppData\\Local\\Temp/ipykernel_13248/1326363247.py\", line 23, in classify_handwriting\n",
      "    digit, acc = predict_digit(im)\n",
      "  File \"C:\\Users\\Tyllium\\AppData\\Local\\Temp/ipykernel_13248/1643772785.py\", line 2, in predict_digit\n",
      "    prediction = model.predict(input.reshape(1, 28, 28)).tolist()[0]\n",
      "  File \"C:\\Users\\Tyllium\\anaconda3\\lib\\site-packages\\PIL\\Image.py\", line 546, in __getattr__\n",
      "    raise AttributeError(name)\n",
      "AttributeError: reshape\n",
      "Exception in Tkinter callback\n",
      "Traceback (most recent call last):\n",
      "  File \"C:\\Users\\Tyllium\\anaconda3\\lib\\tkinter\\__init__.py\", line 1892, in __call__\n",
      "    return self.func(*args)\n",
      "  File \"C:\\Users\\Tyllium\\AppData\\Local\\Temp/ipykernel_13248/1326363247.py\", line 23, in classify_handwriting\n",
      "    digit, acc = predict_digit(im)\n",
      "  File \"C:\\Users\\Tyllium\\AppData\\Local\\Temp/ipykernel_13248/1643772785.py\", line 2, in predict_digit\n",
      "    prediction = model.predict(input.reshape(1, 28, 28)).tolist()[0]\n",
      "  File \"C:\\Users\\Tyllium\\anaconda3\\lib\\site-packages\\PIL\\Image.py\", line 546, in __getattr__\n",
      "    raise AttributeError(name)\n",
      "AttributeError: reshape\n",
      "Exception in Tkinter callback\n",
      "Traceback (most recent call last):\n",
      "  File \"C:\\Users\\Tyllium\\anaconda3\\lib\\tkinter\\__init__.py\", line 1892, in __call__\n",
      "    return self.func(*args)\n",
      "  File \"C:\\Users\\Tyllium\\AppData\\Local\\Temp/ipykernel_13248/1326363247.py\", line 23, in classify_handwriting\n",
      "    digit, acc = predict_digit(im)\n",
      "  File \"C:\\Users\\Tyllium\\AppData\\Local\\Temp/ipykernel_13248/1643772785.py\", line 2, in predict_digit\n",
      "    prediction = model.predict(input.reshape(1, 28, 28)).tolist()[0]\n",
      "  File \"C:\\Users\\Tyllium\\anaconda3\\lib\\site-packages\\PIL\\Image.py\", line 546, in __getattr__\n",
      "    raise AttributeError(name)\n",
      "AttributeError: reshape\n",
      "Exception in Tkinter callback\n",
      "Traceback (most recent call last):\n",
      "  File \"C:\\Users\\Tyllium\\anaconda3\\lib\\tkinter\\__init__.py\", line 1892, in __call__\n",
      "    return self.func(*args)\n",
      "  File \"C:\\Users\\Tyllium\\AppData\\Local\\Temp/ipykernel_13248/1326363247.py\", line 23, in classify_handwriting\n",
      "    digit, acc = predict_digit(im)\n",
      "  File \"C:\\Users\\Tyllium\\AppData\\Local\\Temp/ipykernel_13248/1643772785.py\", line 2, in predict_digit\n",
      "    prediction = model.predict(input.reshape(1, 28, 28)).tolist()[0]\n",
      "  File \"C:\\Users\\Tyllium\\anaconda3\\lib\\site-packages\\PIL\\Image.py\", line 546, in __getattr__\n",
      "    raise AttributeError(name)\n",
      "AttributeError: reshape\n",
      "Exception in Tkinter callback\n",
      "Traceback (most recent call last):\n",
      "  File \"C:\\Users\\Tyllium\\anaconda3\\lib\\tkinter\\__init__.py\", line 1892, in __call__\n",
      "    return self.func(*args)\n",
      "  File \"C:\\Users\\Tyllium\\AppData\\Local\\Temp/ipykernel_13248/1326363247.py\", line 23, in classify_handwriting\n",
      "    digit, acc = predict_digit(im)\n",
      "  File \"C:\\Users\\Tyllium\\AppData\\Local\\Temp/ipykernel_13248/1643772785.py\", line 2, in predict_digit\n",
      "    prediction = model.predict(input.reshape(1, 28, 28)).tolist()[0]\n",
      "  File \"C:\\Users\\Tyllium\\anaconda3\\lib\\site-packages\\PIL\\Image.py\", line 546, in __getattr__\n",
      "    raise AttributeError(name)\n",
      "AttributeError: reshape\n"
     ]
    },
    {
     "name": "stderr",
     "output_type": "stream",
     "text": [
      "Exception in Tkinter callback\n",
      "Traceback (most recent call last):\n",
      "  File \"C:\\Users\\Tyllium\\anaconda3\\lib\\tkinter\\__init__.py\", line 1892, in __call__\n",
      "    return self.func(*args)\n",
      "  File \"C:\\Users\\Tyllium\\AppData\\Local\\Temp/ipykernel_13248/1326363247.py\", line 23, in classify_handwriting\n",
      "    digit, acc = predict_digit(im)\n",
      "  File \"C:\\Users\\Tyllium\\AppData\\Local\\Temp/ipykernel_13248/1643772785.py\", line 2, in predict_digit\n",
      "    prediction = model.predict(input.reshape(1, 28, 28)).tolist()[0]\n",
      "  File \"C:\\Users\\Tyllium\\anaconda3\\lib\\site-packages\\PIL\\Image.py\", line 546, in __getattr__\n",
      "    raise AttributeError(name)\n",
      "AttributeError: reshape\n",
      "Exception in Tkinter callback\n",
      "Traceback (most recent call last):\n",
      "  File \"C:\\Users\\Tyllium\\anaconda3\\lib\\tkinter\\__init__.py\", line 1892, in __call__\n",
      "    return self.func(*args)\n",
      "  File \"C:\\Users\\Tyllium\\AppData\\Local\\Temp/ipykernel_13248/1326363247.py\", line 23, in classify_handwriting\n",
      "    digit, acc = predict_digit(im)\n",
      "  File \"C:\\Users\\Tyllium\\AppData\\Local\\Temp/ipykernel_13248/1643772785.py\", line 2, in predict_digit\n",
      "    prediction = model.predict(input.reshape(1, 28, 28)).tolist()[0]\n",
      "  File \"C:\\Users\\Tyllium\\anaconda3\\lib\\site-packages\\PIL\\Image.py\", line 546, in __getattr__\n",
      "    raise AttributeError(name)\n",
      "AttributeError: reshape\n",
      "Exception in Tkinter callback\n",
      "Traceback (most recent call last):\n",
      "  File \"C:\\Users\\Tyllium\\anaconda3\\lib\\tkinter\\__init__.py\", line 1892, in __call__\n",
      "    return self.func(*args)\n",
      "  File \"C:\\Users\\Tyllium\\AppData\\Local\\Temp/ipykernel_13248/1326363247.py\", line 23, in classify_handwriting\n",
      "    digit, acc = predict_digit(im)\n",
      "  File \"C:\\Users\\Tyllium\\AppData\\Local\\Temp/ipykernel_13248/1643772785.py\", line 2, in predict_digit\n",
      "    prediction = model.predict(input.reshape(1, 28, 28)).tolist()[0]\n",
      "  File \"C:\\Users\\Tyllium\\anaconda3\\lib\\site-packages\\PIL\\Image.py\", line 546, in __getattr__\n",
      "    raise AttributeError(name)\n",
      "AttributeError: reshape\n",
      "Exception in Tkinter callback\n",
      "Traceback (most recent call last):\n",
      "  File \"C:\\Users\\Tyllium\\anaconda3\\lib\\tkinter\\__init__.py\", line 1892, in __call__\n",
      "    return self.func(*args)\n",
      "  File \"C:\\Users\\Tyllium\\AppData\\Local\\Temp/ipykernel_13248/1326363247.py\", line 23, in classify_handwriting\n",
      "    digit, acc = predict_digit(im)\n",
      "  File \"C:\\Users\\Tyllium\\AppData\\Local\\Temp/ipykernel_13248/1643772785.py\", line 2, in predict_digit\n",
      "    prediction = model.predict(input.reshape(1, 28, 28)).tolist()[0]\n",
      "  File \"C:\\Users\\Tyllium\\anaconda3\\lib\\site-packages\\PIL\\Image.py\", line 546, in __getattr__\n",
      "    raise AttributeError(name)\n",
      "AttributeError: reshape\n",
      "Exception in Tkinter callback\n",
      "Traceback (most recent call last):\n",
      "  File \"C:\\Users\\Tyllium\\anaconda3\\lib\\tkinter\\__init__.py\", line 1892, in __call__\n",
      "    return self.func(*args)\n",
      "  File \"C:\\Users\\Tyllium\\AppData\\Local\\Temp/ipykernel_13248/1326363247.py\", line 23, in classify_handwriting\n",
      "    digit, acc = predict_digit(im)\n",
      "  File \"C:\\Users\\Tyllium\\AppData\\Local\\Temp/ipykernel_13248/1643772785.py\", line 2, in predict_digit\n",
      "    prediction = model.predict(input.reshape(1, 28, 28)).tolist()[0]\n",
      "  File \"C:\\Users\\Tyllium\\anaconda3\\lib\\site-packages\\PIL\\Image.py\", line 546, in __getattr__\n",
      "    raise AttributeError(name)\n",
      "AttributeError: reshape\n",
      "Exception in Tkinter callback\n",
      "Traceback (most recent call last):\n",
      "  File \"C:\\Users\\Tyllium\\anaconda3\\lib\\tkinter\\__init__.py\", line 1892, in __call__\n",
      "    return self.func(*args)\n",
      "  File \"C:\\Users\\Tyllium\\AppData\\Local\\Temp/ipykernel_13248/1326363247.py\", line 23, in classify_handwriting\n",
      "    digit, acc = predict_digit(im)\n",
      "  File \"C:\\Users\\Tyllium\\AppData\\Local\\Temp/ipykernel_13248/1643772785.py\", line 2, in predict_digit\n",
      "    prediction = model.predict(input.reshape(1, 28, 28)).tolist()[0]\n",
      "  File \"C:\\Users\\Tyllium\\anaconda3\\lib\\site-packages\\PIL\\Image.py\", line 546, in __getattr__\n",
      "    raise AttributeError(name)\n",
      "AttributeError: reshape\n",
      "Exception in Tkinter callback\n",
      "Traceback (most recent call last):\n",
      "  File \"C:\\Users\\Tyllium\\anaconda3\\lib\\tkinter\\__init__.py\", line 1892, in __call__\n",
      "    return self.func(*args)\n",
      "  File \"C:\\Users\\Tyllium\\AppData\\Local\\Temp/ipykernel_13248/1326363247.py\", line 23, in classify_handwriting\n",
      "    digit, acc = predict_digit(im)\n",
      "  File \"C:\\Users\\Tyllium\\AppData\\Local\\Temp/ipykernel_13248/1643772785.py\", line 2, in predict_digit\n",
      "    prediction = model.predict(input.reshape(1, 28, 28)).tolist()[0]\n",
      "  File \"C:\\Users\\Tyllium\\anaconda3\\lib\\site-packages\\PIL\\Image.py\", line 546, in __getattr__\n",
      "    raise AttributeError(name)\n",
      "AttributeError: reshape\n",
      "Exception in Tkinter callback\n",
      "Traceback (most recent call last):\n",
      "  File \"C:\\Users\\Tyllium\\anaconda3\\lib\\tkinter\\__init__.py\", line 1892, in __call__\n",
      "    return self.func(*args)\n",
      "  File \"C:\\Users\\Tyllium\\AppData\\Local\\Temp/ipykernel_13248/1326363247.py\", line 23, in classify_handwriting\n",
      "    digit, acc = predict_digit(im)\n",
      "  File \"C:\\Users\\Tyllium\\AppData\\Local\\Temp/ipykernel_13248/1643772785.py\", line 2, in predict_digit\n",
      "    prediction = model.predict(input.reshape(1, 28, 28)).tolist()[0]\n",
      "  File \"C:\\Users\\Tyllium\\anaconda3\\lib\\site-packages\\PIL\\Image.py\", line 546, in __getattr__\n",
      "    raise AttributeError(name)\n",
      "AttributeError: reshape\n",
      "Exception in Tkinter callback\n",
      "Traceback (most recent call last):\n",
      "  File \"C:\\Users\\Tyllium\\anaconda3\\lib\\tkinter\\__init__.py\", line 1892, in __call__\n",
      "    return self.func(*args)\n",
      "  File \"C:\\Users\\Tyllium\\AppData\\Local\\Temp/ipykernel_13248/1326363247.py\", line 23, in classify_handwriting\n",
      "    digit, acc = predict_digit(im)\n",
      "  File \"C:\\Users\\Tyllium\\AppData\\Local\\Temp/ipykernel_13248/1643772785.py\", line 2, in predict_digit\n",
      "    prediction = model.predict(input.reshape(1, 28, 28)).tolist()[0]\n",
      "  File \"C:\\Users\\Tyllium\\anaconda3\\lib\\site-packages\\PIL\\Image.py\", line 546, in __getattr__\n",
      "    raise AttributeError(name)\n",
      "AttributeError: reshape\n",
      "Exception in Tkinter callback\n",
      "Traceback (most recent call last):\n",
      "  File \"C:\\Users\\Tyllium\\anaconda3\\lib\\tkinter\\__init__.py\", line 1892, in __call__\n",
      "    return self.func(*args)\n",
      "  File \"C:\\Users\\Tyllium\\AppData\\Local\\Temp/ipykernel_13248/1326363247.py\", line 23, in classify_handwriting\n",
      "    digit, acc = predict_digit(im)\n",
      "  File \"C:\\Users\\Tyllium\\AppData\\Local\\Temp/ipykernel_13248/1643772785.py\", line 2, in predict_digit\n",
      "    prediction = model.predict(input.reshape(1, 28, 28)).tolist()[0]\n",
      "  File \"C:\\Users\\Tyllium\\anaconda3\\lib\\site-packages\\PIL\\Image.py\", line 546, in __getattr__\n",
      "    raise AttributeError(name)\n",
      "AttributeError: reshape\n",
      "Exception in Tkinter callback\n",
      "Traceback (most recent call last):\n",
      "  File \"C:\\Users\\Tyllium\\anaconda3\\lib\\tkinter\\__init__.py\", line 1892, in __call__\n",
      "    return self.func(*args)\n",
      "  File \"C:\\Users\\Tyllium\\AppData\\Local\\Temp/ipykernel_13248/1326363247.py\", line 23, in classify_handwriting\n",
      "    digit, acc = predict_digit(im)\n",
      "  File \"C:\\Users\\Tyllium\\AppData\\Local\\Temp/ipykernel_13248/1643772785.py\", line 2, in predict_digit\n",
      "    prediction = model.predict(input.reshape(1, 28, 28)).tolist()[0]\n",
      "  File \"C:\\Users\\Tyllium\\anaconda3\\lib\\site-packages\\PIL\\Image.py\", line 546, in __getattr__\n",
      "    raise AttributeError(name)\n",
      "AttributeError: reshape\n",
      "Exception in Tkinter callback\n",
      "Traceback (most recent call last):\n",
      "  File \"C:\\Users\\Tyllium\\anaconda3\\lib\\tkinter\\__init__.py\", line 1892, in __call__\n",
      "    return self.func(*args)\n",
      "  File \"C:\\Users\\Tyllium\\AppData\\Local\\Temp/ipykernel_13248/1326363247.py\", line 23, in classify_handwriting\n",
      "    digit, acc = predict_digit(im)\n",
      "  File \"C:\\Users\\Tyllium\\AppData\\Local\\Temp/ipykernel_13248/1643772785.py\", line 2, in predict_digit\n",
      "    prediction = model.predict(input.reshape(1, 28, 28)).tolist()[0]\n",
      "  File \"C:\\Users\\Tyllium\\anaconda3\\lib\\site-packages\\PIL\\Image.py\", line 546, in __getattr__\n",
      "    raise AttributeError(name)\n",
      "AttributeError: reshape\n",
      "Exception in Tkinter callback\n",
      "Traceback (most recent call last):\n",
      "  File \"C:\\Users\\Tyllium\\anaconda3\\lib\\tkinter\\__init__.py\", line 1892, in __call__\n",
      "    return self.func(*args)\n",
      "  File \"C:\\Users\\Tyllium\\AppData\\Local\\Temp/ipykernel_13248/1326363247.py\", line 23, in classify_handwriting\n",
      "    digit, acc = predict_digit(im)\n",
      "  File \"C:\\Users\\Tyllium\\AppData\\Local\\Temp/ipykernel_13248/1643772785.py\", line 2, in predict_digit\n",
      "    prediction = model.predict(input.reshape(1, 28, 28)).tolist()[0]\n",
      "  File \"C:\\Users\\Tyllium\\anaconda3\\lib\\site-packages\\PIL\\Image.py\", line 546, in __getattr__\n",
      "    raise AttributeError(name)\n",
      "AttributeError: reshape\n"
     ]
    },
    {
     "name": "stderr",
     "output_type": "stream",
     "text": [
      "Exception in Tkinter callback\n",
      "Traceback (most recent call last):\n",
      "  File \"C:\\Users\\Tyllium\\anaconda3\\lib\\tkinter\\__init__.py\", line 1892, in __call__\n",
      "    return self.func(*args)\n",
      "  File \"C:\\Users\\Tyllium\\AppData\\Local\\Temp/ipykernel_13248/1326363247.py\", line 23, in classify_handwriting\n",
      "    digit, acc = predict_digit(im)\n",
      "  File \"C:\\Users\\Tyllium\\AppData\\Local\\Temp/ipykernel_13248/1643772785.py\", line 2, in predict_digit\n",
      "    prediction = model.predict(input.reshape(1, 28, 28)).tolist()[0]\n",
      "  File \"C:\\Users\\Tyllium\\anaconda3\\lib\\site-packages\\PIL\\Image.py\", line 546, in __getattr__\n",
      "    raise AttributeError(name)\n",
      "AttributeError: reshape\n",
      "Exception in Tkinter callback\n",
      "Traceback (most recent call last):\n",
      "  File \"C:\\Users\\Tyllium\\anaconda3\\lib\\tkinter\\__init__.py\", line 1892, in __call__\n",
      "    return self.func(*args)\n",
      "  File \"C:\\Users\\Tyllium\\AppData\\Local\\Temp/ipykernel_13248/1326363247.py\", line 23, in classify_handwriting\n",
      "    digit, acc = predict_digit(im)\n",
      "  File \"C:\\Users\\Tyllium\\AppData\\Local\\Temp/ipykernel_13248/1643772785.py\", line 2, in predict_digit\n",
      "    prediction = model.predict(input.reshape(1, 28, 28)).tolist()[0]\n",
      "  File \"C:\\Users\\Tyllium\\anaconda3\\lib\\site-packages\\PIL\\Image.py\", line 546, in __getattr__\n",
      "    raise AttributeError(name)\n",
      "AttributeError: reshape\n",
      "Exception in Tkinter callback\n",
      "Traceback (most recent call last):\n",
      "  File \"C:\\Users\\Tyllium\\anaconda3\\lib\\tkinter\\__init__.py\", line 1892, in __call__\n",
      "    return self.func(*args)\n",
      "  File \"C:\\Users\\Tyllium\\AppData\\Local\\Temp/ipykernel_13248/1326363247.py\", line 23, in classify_handwriting\n",
      "    digit, acc = predict_digit(im)\n",
      "  File \"C:\\Users\\Tyllium\\AppData\\Local\\Temp/ipykernel_13248/1643772785.py\", line 2, in predict_digit\n",
      "    prediction = model.predict(input.reshape(1, 28, 28)).tolist()[0]\n",
      "  File \"C:\\Users\\Tyllium\\anaconda3\\lib\\site-packages\\PIL\\Image.py\", line 546, in __getattr__\n",
      "    raise AttributeError(name)\n",
      "AttributeError: reshape\n",
      "Exception in Tkinter callback\n",
      "Traceback (most recent call last):\n",
      "  File \"C:\\Users\\Tyllium\\anaconda3\\lib\\tkinter\\__init__.py\", line 1892, in __call__\n",
      "    return self.func(*args)\n",
      "  File \"C:\\Users\\Tyllium\\AppData\\Local\\Temp/ipykernel_13248/1326363247.py\", line 23, in classify_handwriting\n",
      "    digit, acc = predict_digit(im)\n",
      "  File \"C:\\Users\\Tyllium\\AppData\\Local\\Temp/ipykernel_13248/1643772785.py\", line 2, in predict_digit\n",
      "    prediction = model.predict(input.reshape(1, 28, 28)).tolist()[0]\n",
      "  File \"C:\\Users\\Tyllium\\anaconda3\\lib\\site-packages\\PIL\\Image.py\", line 546, in __getattr__\n",
      "    raise AttributeError(name)\n",
      "AttributeError: reshape\n",
      "Exception in Tkinter callback\n",
      "Traceback (most recent call last):\n",
      "  File \"C:\\Users\\Tyllium\\anaconda3\\lib\\tkinter\\__init__.py\", line 1892, in __call__\n",
      "    return self.func(*args)\n",
      "  File \"C:\\Users\\Tyllium\\AppData\\Local\\Temp/ipykernel_13248/1326363247.py\", line 23, in classify_handwriting\n",
      "    digit, acc = predict_digit(im)\n",
      "  File \"C:\\Users\\Tyllium\\AppData\\Local\\Temp/ipykernel_13248/1643772785.py\", line 2, in predict_digit\n",
      "    prediction = model.predict(input.reshape(1, 28, 28)).tolist()[0]\n",
      "  File \"C:\\Users\\Tyllium\\anaconda3\\lib\\site-packages\\PIL\\Image.py\", line 546, in __getattr__\n",
      "    raise AttributeError(name)\n",
      "AttributeError: reshape\n",
      "Exception in Tkinter callback\n",
      "Traceback (most recent call last):\n",
      "  File \"C:\\Users\\Tyllium\\anaconda3\\lib\\tkinter\\__init__.py\", line 1892, in __call__\n",
      "    return self.func(*args)\n",
      "  File \"C:\\Users\\Tyllium\\AppData\\Local\\Temp/ipykernel_13248/1326363247.py\", line 23, in classify_handwriting\n",
      "    digit, acc = predict_digit(im)\n",
      "  File \"C:\\Users\\Tyllium\\AppData\\Local\\Temp/ipykernel_13248/1643772785.py\", line 2, in predict_digit\n",
      "    prediction = model.predict(input.reshape(1, 28, 28)).tolist()[0]\n",
      "  File \"C:\\Users\\Tyllium\\anaconda3\\lib\\site-packages\\PIL\\Image.py\", line 546, in __getattr__\n",
      "    raise AttributeError(name)\n",
      "AttributeError: reshape\n"
     ]
    }
   ],
   "source": [
    "class App(tk.Tk):\n",
    "    def __init__(self):\n",
    "        tk.Tk.__init__(self)\n",
    "        self.x = self.y = 0\n",
    "        # Creating elements\n",
    "        self.canvas = tk.Canvas(self, width=300, height=300, bg = \"white\", cursor=\"cross\")\n",
    "        self.label = tk.Label(self, text=\"Thinking..\", font=(\"Helvetica\", 48))\n",
    "        self.classify_btn = tk.Button(self, text = \"Recognise\", command =         self.classify_handwriting) \n",
    "        self.button_clear = tk.Button(self, text = \"Clear\", command = self.clear_all)\n",
    "        # Grid structure\n",
    "        self.canvas.grid(row=0, column=0, pady=2, sticky=W, )\n",
    "        self.label.grid(row=0, column=1,pady=2, padx=2)\n",
    "        self.classify_btn.grid(row=1, column=1, pady=2, padx=2)\n",
    "        self.button_clear.grid(row=1, column=0, pady=2)\n",
    "        #self.canvas.bind(\"<Motion>\", self.start_pos)\n",
    "        self.canvas.bind(\"<B1-Motion>\", self.draw_lines)\n",
    "    def clear_all(self):\n",
    "        self.canvas.delete(\"all\")\n",
    "    def classify_handwriting(self):\n",
    "        HWND = self.canvas.winfo_id() # get the handle of the canvas\n",
    "        rect = win32gui.GetWindowRect(HWND) # get the coordinate of the canvas\n",
    "        im = ImageGrab.grab(rect)\n",
    "        digit, acc = predict_digit(im)\n",
    "        self.label.configure(text= str(digit)+', '+ str(int(acc*100))+'%')\n",
    "    def draw_lines(self, event):\n",
    "        self.x = event.x\n",
    "        self.y = event.y\n",
    "        r=8\n",
    "        self.canvas.create_oval(self.x-r, self.y-r, self.x + r, self.y + r, fill='black')\n",
    "app = App()\n",
    "mainloop()"
   ]
  },
  {
   "cell_type": "code",
   "execution_count": null,
   "id": "ef1aff42",
   "metadata": {},
   "outputs": [],
   "source": []
  },
  {
   "cell_type": "code",
   "execution_count": null,
   "id": "ba865782",
   "metadata": {},
   "outputs": [],
   "source": [
    "pip install gradio"
   ]
  },
  {
   "cell_type": "code",
   "execution_count": null,
   "id": "fdc5a483",
   "metadata": {},
   "outputs": [],
   "source": []
  },
  {
   "cell_type": "code",
   "execution_count": null,
   "id": "e087e9e9",
   "metadata": {},
   "outputs": [],
   "source": []
  },
  {
   "cell_type": "code",
   "execution_count": null,
   "id": "22ba1134",
   "metadata": {},
   "outputs": [],
   "source": []
  },
  {
   "cell_type": "code",
   "execution_count": null,
   "id": "54634c4f",
   "metadata": {},
   "outputs": [],
   "source": [
    "import gradio as gr"
   ]
  },
  {
   "cell_type": "code",
   "execution_count": null,
   "id": "f01779fc",
   "metadata": {},
   "outputs": [],
   "source": [
    "\n",
    "import tensorflow as tf"
   ]
  },
  {
   "cell_type": "code",
   "execution_count": null,
   "id": "99c07cec",
   "metadata": {},
   "outputs": [],
   "source": []
  },
  {
   "cell_type": "code",
   "execution_count": null,
   "id": "b7563822",
   "metadata": {},
   "outputs": [],
   "source": []
  },
  {
   "cell_type": "code",
   "execution_count": null,
   "id": "d77bd516",
   "metadata": {},
   "outputs": [],
   "source": []
  },
  {
   "cell_type": "code",
   "execution_count": null,
   "id": "e8f8cc6d",
   "metadata": {},
   "outputs": [],
   "source": []
  },
  {
   "cell_type": "code",
   "execution_count": null,
   "id": "1facd899",
   "metadata": {},
   "outputs": [],
   "source": []
  },
  {
   "cell_type": "code",
   "execution_count": null,
   "id": "6451e3da",
   "metadata": {},
   "outputs": [],
   "source": []
  },
  {
   "cell_type": "code",
   "execution_count": null,
   "id": "7fd63358",
   "metadata": {},
   "outputs": [],
   "source": [
    "\n"
   ]
  },
  {
   "cell_type": "code",
   "execution_count": null,
   "id": "8fe7cff6",
   "metadata": {},
   "outputs": [],
   "source": [
    "\n",
    "  "
   ]
  },
  {
   "cell_type": "code",
   "execution_count": null,
   "id": "e0851937",
   "metadata": {},
   "outputs": [],
   "source": []
  },
  {
   "cell_type": "code",
   "execution_count": null,
   "id": "4fd9479e",
   "metadata": {},
   "outputs": [],
   "source": []
  },
  {
   "cell_type": "code",
   "execution_count": null,
   "id": "e7f53319",
   "metadata": {},
   "outputs": [],
   "source": []
  },
  {
   "cell_type": "code",
   "execution_count": null,
   "id": "481e6b63",
   "metadata": {},
   "outputs": [],
   "source": [
    "\n"
   ]
  },
  {
   "cell_type": "code",
   "execution_count": null,
   "id": "981644a8",
   "metadata": {},
   "outputs": [],
   "source": []
  },
  {
   "cell_type": "code",
   "execution_count": null,
   "id": "72ed724a",
   "metadata": {},
   "outputs": [],
   "source": []
  },
  {
   "cell_type": "code",
   "execution_count": null,
   "id": "bb0d0dce",
   "metadata": {},
   "outputs": [],
   "source": []
  }
 ],
 "metadata": {
  "kernelspec": {
   "display_name": "Python 3 (ipykernel)",
   "language": "python",
   "name": "python3"
  },
  "language_info": {
   "codemirror_mode": {
    "name": "ipython",
    "version": 3
   },
   "file_extension": ".py",
   "mimetype": "text/x-python",
   "name": "python",
   "nbconvert_exporter": "python",
   "pygments_lexer": "ipython3",
   "version": "3.9.7"
  }
 },
 "nbformat": 4,
 "nbformat_minor": 5
}
